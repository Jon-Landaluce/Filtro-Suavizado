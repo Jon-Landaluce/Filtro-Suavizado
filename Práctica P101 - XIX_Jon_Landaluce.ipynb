{
 "cells": [
  {
   "cell_type": "code",
   "execution_count": 3,
   "metadata": {},
   "outputs": [
    {
     "data": {
      "text/plain": [
       "[[7.333333333333333, 11.5, 14.75, 18.75, 17.333333333333332],\n",
       " [8.25, 9.8, 14, 15.6, 14.5],\n",
       " [15.5, 13, 12.8, 15, 9.75],\n",
       " [16.5, 13.2, 15.4, 9.4, 11.5],\n",
       " [16, 13, 9.75, 14.5, 6.666666666666667]]"
      ]
     },
     "execution_count": 3,
     "metadata": {},
     "output_type": "execute_result"
    }
   ],
   "source": [
    "from statistics import mean\n",
    "\n",
    "def process_matrix(matrix):\n",
    "\n",
    "    result_matrix = []\n",
    "\n",
    "    # Verificar si la matriz tiene longitud menor o igual a 1\n",
    "    if len(matrix) <= 1:\n",
    "        return result_matrix\n",
    "\n",
    "    # Bucle externo para iterar matrix y asignar valores a las filas\n",
    "    for i, row in enumerate(matrix):\n",
    "        \n",
    "        temporalList = []\n",
    "\n",
    "        # Bucle interno para iterar y dar valores a los elementos de las filas\n",
    "        for j, value in enumerate(row):\n",
    "\n",
    "            # Promedio Esquina Superior Izquierda\n",
    "            if i == 0 and j == 0:\n",
    "                temporalList.append(mean([matrix[0][0], matrix[0][1], matrix[1][0]]))\n",
    "\n",
    "            # Promedio Esquina Superior Derecha\n",
    "            elif i == 0 and j == len(matrix[i]) - 1:\n",
    "                temporalList.append(mean([matrix[0][-2], matrix[0][-1], matrix[1][-1]]))\n",
    "\n",
    "            # Promedio Esquina Inferior Izquierda\n",
    "            elif i == len(matrix) - 1 and j == 0:\n",
    "                temporalList.append(mean([matrix[-1][0], matrix[-1][1], matrix[-2][0]]))\n",
    "\n",
    "            # Promedio Esquina Inferior Derecha\n",
    "            elif i == len(matrix) - 1 and j == len(matrix[i]) - 1 :\n",
    "                temporalList.append(mean([matrix[-1][-1], matrix[-1][-2], matrix[-2][-1]]))\n",
    "\n",
    "\n",
    "\n",
    "            # Promedio Elementos Borde Superior\n",
    "            elif i == 0 and (j != 0 and j != len(matrix[i])):\n",
    "                temporalList.append(mean([matrix[i][j], matrix[i][j - 1], matrix[i][j + 1], matrix[1][j]]))\n",
    "\n",
    "            # Promedio Elementos Borde Inferior\n",
    "            elif i == len(matrix) - 1 and (j != 0 and j != len(matrix[i])):\n",
    "                temporalList.append(mean([matrix[i][j], matrix[i][j - 1], matrix[i][j + 1], matrix[i - 1][j]]))\n",
    "\n",
    "            # Promedio Elementos Borde Izquierdo\n",
    "            elif (i != 0 and i != len(matrix) - 1) and j == 0:\n",
    "                temporalList.append(mean([matrix[i][0], matrix[i - 1][0], matrix[i + 1][0], matrix[i][1]]))\n",
    "\n",
    "            # Promedio Elementos Borde Derecho\n",
    "            elif (i != 0 and i != len(matrix) - 1) and j == len(matrix[i]) - 1:\n",
    "                temporalList.append(mean([matrix[i][len(matrix[i]) - 1 ], matrix[i - 1][len(matrix[i]) - 1 ], matrix[i + 1][len(matrix[i]) - 1 ], matrix[i][len(matrix[i]) - 2 ]]))\n",
    "\n",
    "\n",
    "\n",
    "            # Promedio Elementos Internos\n",
    "            else:\n",
    "                temporalList.append(mean([matrix[i][j], matrix[i + 1][j], matrix[i - 1][j], matrix[i][j + 1], matrix[i][j - 1]]))\n",
    "\n",
    "\n",
    "        result_matrix.append(temporalList)\n",
    "\n",
    "\n",
    "    return result_matrix\n",
    "\n",
    "\n",
    "\n",
    "process_matrix([ \n",
    "    \n",
    "[7, 12, 18, 24, 11],\n",
    "[3, 9, 5, 22, 17],\n",
    "[14, 20, 16, 10, 8],\n",
    "[25, 6, 13, 19, 4],\n",
    "[21, 2, 23, 1, 15]\n",
    "\n",
    "])\n"
   ]
  }
 ],
 "metadata": {
  "kernelspec": {
   "display_name": "Python 3",
   "language": "python",
   "name": "python3"
  },
  "language_info": {
   "codemirror_mode": {
    "name": "ipython",
    "version": 3
   },
   "file_extension": ".py",
   "mimetype": "text/x-python",
   "name": "python",
   "nbconvert_exporter": "python",
   "pygments_lexer": "ipython3",
   "version": "3.12.0"
  }
 },
 "nbformat": 4,
 "nbformat_minor": 2
}
